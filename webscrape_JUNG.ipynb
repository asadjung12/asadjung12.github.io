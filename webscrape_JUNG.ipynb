{
 "cells": [
  {
   "cell_type": "code",
   "execution_count": 79,
   "id": "c6c1cbbd-4d42-4f7f-a218-54fc0c2d9986",
   "metadata": {},
   "outputs": [],
   "source": [
    "import requests\n",
    "from bs4 import BeautifulSoup\n",
    "import pandas as pd\n",
    "import time\n",
    "from random import randrange"
   ]
  },
  {
   "cell_type": "code",
   "execution_count": 3,
   "id": "65b25be8-c519-4723-bd4a-7ac4c1989ac2",
   "metadata": {},
   "outputs": [],
   "source": [
    "url = \"https://www.nlrb.gov/search/case?f%5B0%5D=case_type%3AC&r%5B0%5D=02&date_start=01/01/2024&date_end=11/10/2024&page=0\""
   ]
  },
  {
   "cell_type": "code",
   "execution_count": 81,
   "id": "d3ece741-eca4-4536-923c-a32f585a7cf8",
   "metadata": {},
   "outputs": [
    {
     "data": {
      "text/plain": [
       "<Response [200]>"
      ]
     },
     "execution_count": 81,
     "metadata": {},
     "output_type": "execute_result"
    }
   ],
   "source": [
    "response = requests.get(url)\n",
    "response"
   ]
  },
  {
   "cell_type": "code",
   "execution_count": 82,
   "id": "ef173777-dacb-4401-896f-653808230daf",
   "metadata": {},
   "outputs": [],
   "source": [
    "soup = BeautifulSoup(response.text, \"html.parser\")"
   ]
  },
  {
   "cell_type": "code",
   "execution_count": 84,
   "id": "4ac09ed0-1e5c-4039-8708-2b72b8a8afaa",
   "metadata": {
    "scrolled": true
   },
   "outputs": [],
   "source": [
    "all_cases = soup.find_all(\"div\", class_=\"wrapper-div\")"
   ]
  },
  {
   "cell_type": "code",
   "execution_count": 85,
   "id": "144bf19a-7dae-407c-8c62-348d819a0aa7",
   "metadata": {
    "scrolled": true
   },
   "outputs": [
    {
     "data": {
      "text/plain": [
       "<div class=\"wrapper-div\">\n",
       "<div class=\"grid-row\">\n",
       "<div class=\"grid-col-9\">\n",
       "<h2>\n",
       "<a href=\"/case/02-CA-354376\">Berkley Owners Corp</a>\n",
       "</h2>\n",
       "</div>\n",
       "<div class=\"grid-col-3 my-case-follow-wrapper\">\n",
       "<a class=\"btn btn-success usa-button case-efile-button\" href=\"https://apps.nlrb.gov/myAccount/#/FileCaseDocument/TermsConditions?cNo=02-CA-354376\" target=\"_blank\" title=\"E-File Documents on this Case\">E-File</a>\n",
       "<a class=\"btn btn-success usa-button my-case-btn my-case-follow-anon\" data-tooltip-element-id=\"my-case-anon-tooltip-02-CA-354376\" href=\"/saml_login?destination=/search/case?date_end=11%2F10%2F2024&amp;date_start=01%2F01%2F2024&amp;f%5B0%5D=case_type%3AC&amp;page=&amp;r%5B0%5D=02\">Follow</a>\n",
       "<div class=\"my-case-anon-tooltip\" id=\"my-case-anon-tooltip-02-CA-354376\">\n",
       "<div class=\"clearfix text-formatted field field--name-field-tooltip-content field--type-text-long field--label-hidden field__item\">\n",
       "<a href=\"/saml_login?destination=/search/case?date_end=11%2F10%2F2024&amp;date_start=01%2F01%2F2024&amp;f%5B0%5D=case_type%3AC&amp;page=&amp;r%5B0%5D=02\">Sign into MyNLRB</a> to follow cases and\n",
       "                    receive\n",
       "                    updates. <a href=\"/sites/default/files/User Guide for MyCase - National Nabor Relations Board.pdf\">What is this?</a>\n",
       "</div>\n",
       "</div>\n",
       "</div>\n",
       "</div>\n",
       "<div class=\"wrapper-main-content\">\n",
       "<div class=\"partition-div\">\n",
       "<div class=\"left-div\">\n",
       "<strong>Case Number: </strong><a href=\"/case/02-CA-354376\">02-CA-354376</a><br/>\n",
       "<strong>Date Filed: </strong>November 8, 2024<br/>\n",
       "<strong>Status: </strong>Open<br/>\n",
       "</div>\n",
       "<div class=\"right-div\">\n",
       "<strong>Location: </strong>New York, NY<br/>\n",
       "<strong>Region Assigned: </strong>Region 02, New York, New York<br/>\n",
       "</div>\n",
       "</div>\n",
       "<div> </div>\n",
       "</div>\n",
       "</div>"
      ]
     },
     "execution_count": 85,
     "metadata": {},
     "output_type": "execute_result"
    }
   ],
   "source": [
    "all_cases[0]"
   ]
  },
  {
   "cell_type": "code",
   "execution_count": 87,
   "id": "e03b319c-a9e1-45a9-914f-53a85ca95ace",
   "metadata": {},
   "outputs": [],
   "source": [
    "company_list = []\n",
    "company_url_list = []\n",
    "for company in all_cases:\n",
    "    company_list.append(company.find(\"div\", class_=\"grid-col-9\").get_text())\n",
    "    company_url_list.append(company.find(\"a\").get(\"href\"))"
   ]
  },
  {
   "cell_type": "raw",
   "id": "fab0c688-c3ec-4277-b15f-6e1b4169107c",
   "metadata": {},
   "source": [
    "print(company_list)"
   ]
  },
  {
   "cell_type": "code",
   "execution_count": 88,
   "id": "40b86352-539c-4c21-8e90-711bf4aba808",
   "metadata": {},
   "outputs": [
    {
     "name": "stdout",
     "output_type": "stream",
     "text": [
      "['\\n\\nBerkley Owners Corp\\n\\n', '\\n\\nHotel and Gaming Trades Council (300 W 44 Street, NY)\\n\\n', '\\n\\nLocal 6, Hotel and Motel Trades Council (The River Club)\\n\\n', '\\n\\nUnited States Postal Service\\n\\n', '\\n\\nThe River Club\\n\\n', '\\n\\nKid Distro Holding, LLC.   known as Distrokid\\n\\n', '\\n\\nKid Distro Holding, LLC  known as Distrokid\\n\\n', '\\n\\nWelocalize\\n\\n', '\\n\\n32BJ SEIU (Harvard Maintenance)\\n\\n', '\\n\\nUrban Justice Center\\n\\n']\n"
     ]
    }
   ],
   "source": [
    "print(company_list)"
   ]
  },
  {
   "cell_type": "code",
   "execution_count": 89,
   "id": "05a79740-67f1-4b45-869e-961916f55394",
   "metadata": {},
   "outputs": [
    {
     "name": "stdout",
     "output_type": "stream",
     "text": [
      "['/case/02-CA-354376', '/case/02-CB-354434', '/case/02-CB-354151', '/case/02-CA-354249', '/case/02-CA-354170', '/case/02-CA-354195', '/case/02-CA-354189', '/case/02-CA-354190', '/case/02-CB-354213', '/case/02-CA-354312']\n"
     ]
    }
   ],
   "source": [
    "print(company_url_list)"
   ]
  },
  {
   "cell_type": "code",
   "execution_count": 90,
   "id": "7a43126f-b792-4522-8d26-72ce5d269475",
   "metadata": {},
   "outputs": [
    {
     "name": "stdout",
     "output_type": "stream",
     "text": [
      "['\\nCase Number: 02-CA-354376\\nDate Filed: November 8, 2024\\nStatus: Open\\n', '\\nCase Number: 02-CB-354434\\nDate Filed: November 6, 2024\\nStatus: Open\\n', '\\nCase Number: 02-CB-354151\\nDate Filed: November 5, 2024\\nStatus: Open\\n', '\\nCase Number: 02-CA-354249\\nDate Filed: November 4, 2024\\nStatus: Open\\n', '\\nCase Number: 02-CA-354170\\nDate Filed: November 4, 2024\\nStatus: Open\\n', '\\nCase Number: 02-CA-354195\\nDate Filed: November 4, 2024\\nStatus: Open\\n', '\\nCase Number: 02-CA-354189\\nDate Filed: November 4, 2024\\nStatus: Open\\n', '\\nCase Number: 02-CA-354190\\nDate Filed: November 4, 2024\\nStatus: Open\\n', '\\nCase Number: 02-CB-354213\\nDate Filed: November 4, 2024\\nStatus: Open\\n', '\\nCase Number: 02-CA-354312\\nDate Filed: November 4, 2024\\nStatus: Open\\n']\n"
     ]
    }
   ],
   "source": [
    "other_info = [info.find(\"div\", class_=\"left-div\").get_text() for info in all_cases]\n",
    "print(other_info)"
   ]
  },
  {
   "cell_type": "code",
   "execution_count": 91,
   "id": "76aeb7b8-debb-4cf7-a35e-91f2bced1dd0",
   "metadata": {},
   "outputs": [
    {
     "name": "stdout",
     "output_type": "stream",
     "text": [
      "[('\\n\\nBerkley Owners Corp\\n\\n', '\\nCase Number: 02-CA-354376\\nDate Filed: November 8, 2024\\nStatus: Open\\n'), ('\\n\\nHotel and Gaming Trades Council (300 W 44 Street, NY)\\n\\n', '\\nCase Number: 02-CB-354434\\nDate Filed: November 6, 2024\\nStatus: Open\\n'), ('\\n\\nLocal 6, Hotel and Motel Trades Council (The River Club)\\n\\n', '\\nCase Number: 02-CB-354151\\nDate Filed: November 5, 2024\\nStatus: Open\\n'), ('\\n\\nUnited States Postal Service\\n\\n', '\\nCase Number: 02-CA-354249\\nDate Filed: November 4, 2024\\nStatus: Open\\n'), ('\\n\\nThe River Club\\n\\n', '\\nCase Number: 02-CA-354170\\nDate Filed: November 4, 2024\\nStatus: Open\\n'), ('\\n\\nKid Distro Holding, LLC.   known as Distrokid\\n\\n', '\\nCase Number: 02-CA-354195\\nDate Filed: November 4, 2024\\nStatus: Open\\n'), ('\\n\\nKid Distro Holding, LLC  known as Distrokid\\n\\n', '\\nCase Number: 02-CA-354189\\nDate Filed: November 4, 2024\\nStatus: Open\\n'), ('\\n\\nWelocalize\\n\\n', '\\nCase Number: 02-CA-354190\\nDate Filed: November 4, 2024\\nStatus: Open\\n'), ('\\n\\n32BJ SEIU (Harvard Maintenance)\\n\\n', '\\nCase Number: 02-CB-354213\\nDate Filed: November 4, 2024\\nStatus: Open\\n'), ('\\n\\nUrban Justice Center\\n\\n', '\\nCase Number: 02-CA-354312\\nDate Filed: November 4, 2024\\nStatus: Open\\n')]\n"
     ]
    }
   ],
   "source": [
    "cases_data = []\n",
    "for all_data in zip(company_list, other_info):\n",
    "    cases_data.append(all_data)\n",
    "\n",
    "print(cases_data)"
   ]
  },
  {
   "cell_type": "code",
   "execution_count": 93,
   "id": "aa1d32de-9c0d-4f76-b341-9b27fc96a9fa",
   "metadata": {},
   "outputs": [
    {
     "data": {
      "text/html": [
       "<div>\n",
       "<style scoped>\n",
       "    .dataframe tbody tr th:only-of-type {\n",
       "        vertical-align: middle;\n",
       "    }\n",
       "\n",
       "    .dataframe tbody tr th {\n",
       "        vertical-align: top;\n",
       "    }\n",
       "\n",
       "    .dataframe thead th {\n",
       "        text-align: right;\n",
       "    }\n",
       "</style>\n",
       "<table border=\"1\" class=\"dataframe\">\n",
       "  <thead>\n",
       "    <tr style=\"text-align: right;\">\n",
       "      <th></th>\n",
       "      <th>company</th>\n",
       "      <th>other info</th>\n",
       "    </tr>\n",
       "  </thead>\n",
       "  <tbody>\n",
       "    <tr>\n",
       "      <th>0</th>\n",
       "      <td>\\n\\nBerkley Owners Corp\\n\\n</td>\n",
       "      <td>\\nCase Number: 02-CA-354376\\nDate Filed: Novem...</td>\n",
       "    </tr>\n",
       "    <tr>\n",
       "      <th>1</th>\n",
       "      <td>\\n\\nHotel and Gaming Trades Council (300 W 44 ...</td>\n",
       "      <td>\\nCase Number: 02-CB-354434\\nDate Filed: Novem...</td>\n",
       "    </tr>\n",
       "    <tr>\n",
       "      <th>2</th>\n",
       "      <td>\\n\\nLocal 6, Hotel and Motel Trades Council (T...</td>\n",
       "      <td>\\nCase Number: 02-CB-354151\\nDate Filed: Novem...</td>\n",
       "    </tr>\n",
       "    <tr>\n",
       "      <th>3</th>\n",
       "      <td>\\n\\nUnited States Postal Service\\n\\n</td>\n",
       "      <td>\\nCase Number: 02-CA-354249\\nDate Filed: Novem...</td>\n",
       "    </tr>\n",
       "    <tr>\n",
       "      <th>4</th>\n",
       "      <td>\\n\\nThe River Club\\n\\n</td>\n",
       "      <td>\\nCase Number: 02-CA-354170\\nDate Filed: Novem...</td>\n",
       "    </tr>\n",
       "    <tr>\n",
       "      <th>5</th>\n",
       "      <td>\\n\\nKid Distro Holding, LLC.   known as Distro...</td>\n",
       "      <td>\\nCase Number: 02-CA-354195\\nDate Filed: Novem...</td>\n",
       "    </tr>\n",
       "    <tr>\n",
       "      <th>6</th>\n",
       "      <td>\\n\\nKid Distro Holding, LLC  known as Distroki...</td>\n",
       "      <td>\\nCase Number: 02-CA-354189\\nDate Filed: Novem...</td>\n",
       "    </tr>\n",
       "    <tr>\n",
       "      <th>7</th>\n",
       "      <td>\\n\\nWelocalize\\n\\n</td>\n",
       "      <td>\\nCase Number: 02-CA-354190\\nDate Filed: Novem...</td>\n",
       "    </tr>\n",
       "    <tr>\n",
       "      <th>8</th>\n",
       "      <td>\\n\\n32BJ SEIU (Harvard Maintenance)\\n\\n</td>\n",
       "      <td>\\nCase Number: 02-CB-354213\\nDate Filed: Novem...</td>\n",
       "    </tr>\n",
       "    <tr>\n",
       "      <th>9</th>\n",
       "      <td>\\n\\nUrban Justice Center\\n\\n</td>\n",
       "      <td>\\nCase Number: 02-CA-354312\\nDate Filed: Novem...</td>\n",
       "    </tr>\n",
       "  </tbody>\n",
       "</table>\n",
       "</div>"
      ],
      "text/plain": [
       "                                             company  \\\n",
       "0                        \\n\\nBerkley Owners Corp\\n\\n   \n",
       "1  \\n\\nHotel and Gaming Trades Council (300 W 44 ...   \n",
       "2  \\n\\nLocal 6, Hotel and Motel Trades Council (T...   \n",
       "3               \\n\\nUnited States Postal Service\\n\\n   \n",
       "4                             \\n\\nThe River Club\\n\\n   \n",
       "5  \\n\\nKid Distro Holding, LLC.   known as Distro...   \n",
       "6  \\n\\nKid Distro Holding, LLC  known as Distroki...   \n",
       "7                                 \\n\\nWelocalize\\n\\n   \n",
       "8            \\n\\n32BJ SEIU (Harvard Maintenance)\\n\\n   \n",
       "9                       \\n\\nUrban Justice Center\\n\\n   \n",
       "\n",
       "                                          other info  \n",
       "0  \\nCase Number: 02-CA-354376\\nDate Filed: Novem...  \n",
       "1  \\nCase Number: 02-CB-354434\\nDate Filed: Novem...  \n",
       "2  \\nCase Number: 02-CB-354151\\nDate Filed: Novem...  \n",
       "3  \\nCase Number: 02-CA-354249\\nDate Filed: Novem...  \n",
       "4  \\nCase Number: 02-CA-354170\\nDate Filed: Novem...  \n",
       "5  \\nCase Number: 02-CA-354195\\nDate Filed: Novem...  \n",
       "6  \\nCase Number: 02-CA-354189\\nDate Filed: Novem...  \n",
       "7  \\nCase Number: 02-CA-354190\\nDate Filed: Novem...  \n",
       "8  \\nCase Number: 02-CB-354213\\nDate Filed: Novem...  \n",
       "9  \\nCase Number: 02-CA-354312\\nDate Filed: Novem...  "
      ]
     },
     "execution_count": 93,
     "metadata": {},
     "output_type": "execute_result"
    }
   ],
   "source": [
    "df = pd.DataFrame(cases_data)\n",
    "df.columns = [\"company\", \"other info\"]\n",
    "df"
   ]
  },
  {
   "cell_type": "code",
   "execution_count": 113,
   "id": "b642f181-787e-4ebc-bbce-51f48a6b207a",
   "metadata": {},
   "outputs": [],
   "source": [
    "df.to_csv('nlrb_cases_new_york.csv', index = False)"
   ]
  },
  {
   "cell_type": "code",
   "execution_count": null,
   "id": "82a21cf0-bdae-41fa-9c0f-abfe2b0772ee",
   "metadata": {},
   "outputs": [],
   "source": []
  },
  {
   "cell_type": "code",
   "execution_count": null,
   "id": "b5e825d5-afbf-4cc7-a689-2fbfbc8d6761",
   "metadata": {},
   "outputs": [],
   "source": []
  },
  {
   "cell_type": "code",
   "execution_count": null,
   "id": "9ffbcd62-909b-481d-8f69-ffca957f1c39",
   "metadata": {},
   "outputs": [],
   "source": [
    "\n"
   ]
  },
  {
   "cell_type": "code",
   "execution_count": null,
   "id": "8f3c38bc-708d-4ca0-ac6a-ac5ac0b16f91",
   "metadata": {},
   "outputs": [],
   "source": []
  },
  {
   "cell_type": "code",
   "execution_count": null,
   "id": "942cc812-ab2d-4e6b-a569-138c72c95e67",
   "metadata": {},
   "outputs": [],
   "source": []
  }
 ],
 "metadata": {
  "kernelspec": {
   "display_name": "Python 3 (ipykernel)",
   "language": "python",
   "name": "python3"
  },
  "language_info": {
   "codemirror_mode": {
    "name": "ipython",
    "version": 3
   },
   "file_extension": ".py",
   "mimetype": "text/x-python",
   "name": "python",
   "nbconvert_exporter": "python",
   "pygments_lexer": "ipython3",
   "version": "3.12.2"
  }
 },
 "nbformat": 4,
 "nbformat_minor": 5
}
