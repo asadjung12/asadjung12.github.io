{
 "cells": [
  {
   "cell_type": "markdown",
   "id": "a50b15cc",
   "metadata": {},
   "source": [
    "## Q. 1\n",
    "You have a dataset that contains temperature data recorded daily over a month for a fictious city. Categorize the temperature into different levels based on the following conditions:\n",
    "\n",
    "- \"Cold\" if the temperature is 50°F and below.\n",
    "- \"Cool\" if the temperature is above 50°F but below 68°F.\n",
    "- \"Warm\" if the temperature is 68°F and above but less than 86°F.\n",
    "- \"Hot\" if the temperature is 86°F and above.\n",
    "\n",
    "Print the result in the format ```Temperature X°F: whatever Category```\n"
   ]
  },
  {
   "cell_type": "code",
   "execution_count": 7,
   "id": "8ac2e955",
   "metadata": {},
   "outputs": [],
   "source": [
    "### dataset of temperatures:\n",
    "\n",
    "temps = [45, 52, 68, 73, 89, 47, 55, 81, 66,\n",
    "         77, 58, 62, 91, 49, 72, 85, 40, 63, 87, 53,\n",
    "         78, 60, 44, 59, 75, 90, 56, 48, 67, 82]\n"
   ]
  },
  {
   "cell_type": "code",
   "execution_count": 46,
   "id": "66c0e600",
   "metadata": {},
   "outputs": [
    {
     "name": "stdout",
     "output_type": "stream",
     "text": [
      "Temperature 45°F:cold\n",
      "Temperature52°F:cool\n",
      "Temperature68°F:warm\n",
      "Temperature73°F:warm\n",
      "Temperature89°F:hot\n",
      "Temperature 47°F:cold\n",
      "Temperature55°F:cool\n",
      "Temperature81°F:warm\n",
      "Temperature66°F:cool\n",
      "Temperature77°F:warm\n",
      "Temperature58°F:cool\n",
      "Temperature62°F:cool\n",
      "Temperature91°F:hot\n",
      "Temperature 49°F:cold\n",
      "Temperature72°F:warm\n",
      "Temperature85°F:warm\n",
      "Temperature 40°F:cold\n",
      "Temperature63°F:cool\n",
      "Temperature87°F:hot\n",
      "Temperature53°F:cool\n",
      "Temperature78°F:warm\n",
      "Temperature60°F:cool\n",
      "Temperature 44°F:cold\n",
      "Temperature59°F:cool\n",
      "Temperature75°F:warm\n",
      "Temperature90°F:hot\n",
      "Temperature56°F:cool\n",
      "Temperature 48°F:cold\n",
      "Temperature67°F:cool\n",
      "Temperature82°F:warm\n"
     ]
    }
   ],
   "source": [
    "## code it here \n",
    "\n",
    "for temp in temps:\n",
    "    if temp <= 50:\n",
    "        print(f\"Temperature {temp}°F:cold\")\n",
    "    elif 50 < temp < 68:\n",
    "        print(f\"Temperature{temp}°F:cool\")\n",
    "    elif 68 <= temp < 86:\n",
    "        print(f\"Temperature{temp}°F:warm\")\n",
    "    else:\n",
    "        print(f\"Temperature{temp}°F:hot\")"
   ]
  },
  {
   "cell_type": "markdown",
   "id": "ea7e9b9c",
   "metadata": {},
   "source": [
    "## Q. 2\n",
    "\n",
    "Now instead of printing the results, create a list of dictionaries in which each dictionary holds the key-value pairs of ```{\"temp\": temp_value}```"
   ]
  },
  {
   "cell_type": "code",
   "execution_count": 42,
   "id": "0947a342",
   "metadata": {},
   "outputs": [],
   "source": [
    "## code it here\n",
    "\n",
    "temp_dict1 = [{45:'cold'}, {47:'cold'}, {4:'cold'}, {44:'cold'}, {48:'cold'}]\n",
    "temp_dict2 = [{52:'cool'}, {55:'cool'}, {58:'cool'}, {62:'cool'}, {63:'cool'}, {53:'cool'}, {59:'cool'}, {56:'cool'}, {67:'cool'}]\n",
    "temp_dict3 = [{68:'warm'}, {73:'warm'}, {81:'warm'}, {77:'warm'}, {72:'warm'}, {85:'warm'}, {78:'warm'},{82:'warm'}]\n",
    "temp_dict4 = [{89:'hot'}, {91:'hot'}, {87:'hot'}, {90:'hot'}]\n"
   ]
  },
  {
   "cell_type": "markdown",
   "id": "46a15fb0",
   "metadata": {},
   "source": [
    "## Q. 3\n",
    "\n",
    "You have several lists that hold related data points. **Dynamically** create a list of dictionaries that hold each as a set of values. For example, your list of dictionaries should look like:\n",
    "\n",
    "```[{\"first_name\": \"Irene\", \"last_name\": \"Rosenfeld\", \"title\": \"Chair and CEO\", \"company\": \"Kraft Foods\", \"industry\": \"Food and Beverage\"}, ...NEXT dictionary]```\n",
    "\n",
    "**Dynamically** means don't manually create the dictionaries. Use programming to create your dictionaries."
   ]
  },
  {
   "cell_type": "code",
   "execution_count": 48,
   "id": "b88860fe",
   "metadata": {},
   "outputs": [],
   "source": [
    "## ##  RUN THIS CELL - \n",
    "## Here we have a list of CEOs and their relevant data points.\n",
    "first_names = [\"Irene\", \"Ursula\", \"Elon\", \"Tim\"]\n",
    "last_names = [\"Rosenfeld\", \"Burns\", \"Musk\", \"Cook\"]\n",
    "titles = [\"Chair and CEO\", \"Chair and CEO\", \"CEO\", \"CEO\"]\n",
    "companies = [\"Kraft Foods\", \"Xerox\", \"Tesla\", \"Apple\"]\n",
    "industries = [\"Food and Beverage\", \"Process and Document Management\",\n",
    "              \"Auto Manufacturing\", \"Consumer Technology\"]"
   ]
  },
  {
   "cell_type": "code",
   "execution_count": 50,
   "id": "49d85a56",
   "metadata": {},
   "outputs": [
    {
     "ename": "SyntaxError",
     "evalue": "f-string: expecting '}' (3961162005.py, line 4)",
     "output_type": "error",
     "traceback": [
      "\u001b[0;36m  Cell \u001b[0;32mIn[50], line 4\u001b[0;36m\u001b[0m\n\u001b[0;31m    print(f\"{first_name\")\u001b[0m\n\u001b[0m                       ^\u001b[0m\n\u001b[0;31mSyntaxError\u001b[0m\u001b[0;31m:\u001b[0m f-string: expecting '}'\n"
     ]
    }
   ],
   "source": [
    "## code it here\n",
    "\n",
    "for (first_name, last_name, titles, companies,industries) in zip(first_names, last_names, titles, companies, industries):\n",
    "   \n"
   ]
  },
  {
   "cell_type": "code",
   "execution_count": null,
   "id": "9b45fc0d-4efc-4592-bb15-f9ac5b1b8af2",
   "metadata": {},
   "outputs": [],
   "source": []
  }
 ],
 "metadata": {
  "kernelspec": {
   "display_name": "Python 3 (ipykernel)",
   "language": "python",
   "name": "python3"
  },
  "language_info": {
   "codemirror_mode": {
    "name": "ipython",
    "version": 3
   },
   "file_extension": ".py",
   "mimetype": "text/x-python",
   "name": "python",
   "nbconvert_exporter": "python",
   "pygments_lexer": "ipython3",
   "version": "3.12.2"
  }
 },
 "nbformat": 4,
 "nbformat_minor": 5
}
